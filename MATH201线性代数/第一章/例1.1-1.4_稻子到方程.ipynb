{
 "cells": [
  {
   "cell_type": "markdown",
   "id": "fc3a28cf",
   "metadata": {
    "tags": []
   },
   "source": [
    "# numpy解稻子问题"
   ]
  },
  {
   "cell_type": "code",
   "execution_count": 2,
   "id": "250ca58c",
   "metadata": {
    "tags": []
   },
   "outputs": [
    {
     "name": "stdout",
     "output_type": "stream",
     "text": [
      "[9.25 4.25 2.75]\n"
     ]
    }
   ],
   "source": [
    "#例1.1 稻子问题\n",
    "\n",
    "import numpy as np\n",
    "\n",
    "coefs = [[3, 2, 1], [2, 3, 1], [1, 2, 3]]\n",
    "orientates = [39, 34, 26]\n",
    "\n",
    "solutions = np.linalg.solve(coefs, orientates)\n",
    "print(solutions)"
   ]
  },
  {
   "cell_type": "markdown",
   "id": "2de9ae99",
   "metadata": {},
   "source": [
    "无法处理有自由量或无解的情况"
   ]
  },
  {
   "cell_type": "code",
   "execution_count": null,
   "id": "e9de5287",
   "metadata": {},
   "outputs": [],
   "source": [
    "import numpy as np\n",
    "\n",
    "coefs = [[3, 2, 1], [2, 3, 1], [4, 6, 2]]\n",
    "orientates = [39, 34, 68]\n",
    "\n",
    "solutions = np.linalg.solve(coefs, orientates)\n",
    "print(solutions)"
   ]
  },
  {
   "cell_type": "code",
   "execution_count": null,
   "id": "2c597515",
   "metadata": {},
   "outputs": [],
   "source": [
    "import numpy as np\n",
    "\n",
    "coefs = [[3, 2, 1], [2, 3, 1]]\n",
    "orientates = [39, 34]\n",
    "\n",
    "solutions = np.linalg.solve(coefs, orientates)\n",
    "print(solutions)"
   ]
  },
  {
   "cell_type": "code",
   "execution_count": null,
   "id": "b93b6725",
   "metadata": {
    "scrolled": true
   },
   "outputs": [],
   "source": [
    "import numpy as np\n",
    "\n",
    "coefs = [[3, 2, 1], [2, 3, 1], [4, 6, 2]]\n",
    "orientates = [39, 34, 66]\n",
    "\n",
    "solutions = np.linalg.solve(coefs, orientates)\n",
    "print(solutions)"
   ]
  },
  {
   "cell_type": "markdown",
   "id": "234e3bc6",
   "metadata": {},
   "source": [
    "# scipy解稻子问题"
   ]
  },
  {
   "cell_type": "code",
   "execution_count": 3,
   "id": "386911a1",
   "metadata": {
    "tags": []
   },
   "outputs": [
    {
     "name": "stdout",
     "output_type": "stream",
     "text": [
      "[9.25 4.25 2.75]\n"
     ]
    }
   ],
   "source": [
    "from scipy.linalg import solve\n",
    "\n",
    "coefs = [[3, 2, 1], [2, 3, 1], [1, 2, 3]]\n",
    "orientates = [39, 34, 26]\n",
    "\n",
    "solutions = solve(coefs, orientates)\n",
    "print(solutions)"
   ]
  },
  {
   "cell_type": "markdown",
   "id": "ab910ab4",
   "metadata": {},
   "source": [
    "同样也无法处理无解或有自由量的情况"
   ]
  },
  {
   "cell_type": "markdown",
   "id": "b83fd69a",
   "metadata": {},
   "source": [
    "# sympy解稻子问题"
   ]
  },
  {
   "cell_type": "code",
   "execution_count": 8,
   "id": "cd230c61",
   "metadata": {},
   "outputs": [
    {
     "name": "stdout",
     "output_type": "stream",
     "text": [
      "Matrix([[37/4], [17/4], [11/4]])\n"
     ]
    }
   ],
   "source": [
    "from sympy import symbols\n",
    "from sympy.matrices import Matrix\n",
    "\n",
    "coefs = Matrix([[3, 2, 1], [2, 3, 1], [1, 2, 3]])\n",
    "b = Matrix([39, 34, 26])\n",
    "print(coefs.solve(b))"
   ]
  },
  {
   "cell_type": "code",
   "execution_count": 32,
   "id": "db511929",
   "metadata": {},
   "outputs": [
    {
     "name": "stdout",
     "output_type": "stream",
     "text": [
      "{(37/4, 17/4, 11/4)}\n",
      "x0 = 37/4\n",
      "x1 = 17/4\n",
      "x2 = 11/4\n"
     ]
    }
   ],
   "source": [
    "# 清单1.2\n",
    "from sympy import symbols, Matrix\n",
    "from sympy.solvers.solveset import linsolve\n",
    "\n",
    "x1, x2, x3 = symbols(\"x1 x2 x3\", real=True)\n",
    "coefs = Matrix([[3, 2, 1], [2, 3, 1], [1, 2, 3]])\n",
    "b = Matrix([39, 34, 26])\n",
    "\n",
    "ret = linsolve([coefs, b], [x1, x2, x3])\n",
    "# print(ret)\n",
    "\n",
    "for i, val in enumerate(list(ret)[0]):\n",
    "    print(\"x\" + str(i) + \" = \" + str(val))"
   ]
  },
  {
   "cell_type": "markdown",
   "id": "6e1213d6",
   "metadata": {},
   "source": [
    "清单1.3 无解情况"
   ]
  },
  {
   "cell_type": "code",
   "execution_count": 35,
   "id": "4bffa1d8",
   "metadata": {},
   "outputs": [
    {
     "name": "stdout",
     "output_type": "stream",
     "text": [
      "EmptySet\n"
     ]
    }
   ],
   "source": [
    "from sympy import *\n",
    "\n",
    "x1, x2, x3 = symbols(\"x1 x2 x3\", real=True)\n",
    "coefs = Matrix( [[3, 2, 1], [2, 3, 1], [4, 6, 2]])\n",
    "b = Matrix([39, 34, 54])\n",
    "print(linsolve([coefs, b]))"
   ]
  },
  {
   "cell_type": "markdown",
   "id": "9b10841f",
   "metadata": {},
   "source": [
    "清单1.4"
   ]
  },
  {
   "cell_type": "code",
   "execution_count": 41,
   "id": "03d52808",
   "metadata": {},
   "outputs": [
    {
     "name": "stdout",
     "output_type": "stream",
     "text": [
      "{(49/5 - x3/5, 24/5 - x3/5, x3)}\n",
      "x1 = 49/5 - x3/5\n",
      "x2 = 24/5 - x3/5\n",
      "x3 = x3\n"
     ]
    }
   ],
   "source": [
    "from sympy import symbols, Matrix\n",
    "from sympy.solvers.solveset import linsolve\n",
    "\n",
    "x1, x2, x3 = symbols(\"x1 x2 x3\", real=True)\n",
    "coefs = Matrix([[3, 2, 1], [2, 3, 1]])\n",
    "b = Matrix([39, 34])\n",
    "ret = linsolve([coefs, b], [x1, x2, x3])\n",
    "print(ret)\n",
    "\n",
    "for i, val in enumerate(list(ret)[0]):\n",
    "    print(\"x\" + str(i + 1) + \" = \" + str(val))"
   ]
  }
 ],
 "metadata": {
  "kernelspec": {
   "display_name": "Python 3 (ipykernel)",
   "language": "python",
   "name": "python3"
  },
  "language_info": {
   "codemirror_mode": {
    "name": "ipython",
    "version": 3
   },
   "file_extension": ".py",
   "mimetype": "text/x-python",
   "name": "python",
   "nbconvert_exporter": "python",
   "pygments_lexer": "ipython3",
   "version": "3.11.3"
  }
 },
 "nbformat": 4,
 "nbformat_minor": 5
}
