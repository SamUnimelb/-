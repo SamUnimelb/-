{
 "cells": [
  {
   "cell_type": "code",
   "execution_count": 1,
   "id": "a881a8a9",
   "metadata": {},
   "outputs": [],
   "source": [
    "谋士 = {\"ikun\", \"孔明\", \"关公\", \"魏丞相\", \"张无忌\"}\n",
    "能打的 = {\"孔明\", \"关公\", \"张无忌\", \"李世民\", \"段誉\", \"李逍遥\"}\n",
    "当王的 = {\"李世民\", \"段誉\", \"韦帮主\"}\n",
    "S = 能打的.union(谋士).union(当王的)"
   ]
  },
  {
   "cell_type": "code",
   "execution_count": 2,
   "id": "71b1805f",
   "metadata": {
    "scrolled": true
   },
   "outputs": [
    {
     "name": "stdout",
     "output_type": "stream",
     "text": [
      "{'ikun', '孔明', '魏丞相', '张无忌', '李逍遥', '段誉', '韦帮主', '李世民', '关公'}\n"
     ]
    }
   ],
   "source": [
    "print(S)"
   ]
  },
  {
   "cell_type": "markdown",
   "id": "ed218caa-7847-497e-b042-3739e540e56f",
   "metadata": {},
   "source": [
    "# 元素是否属于某个集合"
   ]
  },
  {
   "cell_type": "code",
   "execution_count": 4,
   "id": "903fde2f",
   "metadata": {
    "scrolled": true
   },
   "outputs": [
    {
     "name": "stdout",
     "output_type": "stream",
     "text": [
      "True\n",
      "False\n"
     ]
    }
   ],
   "source": [
    "print(\"ikun\" in 谋士)\n",
    "print(\"ikun\" in 当王的)"
   ]
  },
  {
   "cell_type": "code",
   "execution_count": 5,
   "id": "aacf1a58",
   "metadata": {},
   "outputs": [
    {
     "name": "stdout",
     "output_type": "stream",
     "text": [
      "False\n",
      "True\n"
     ]
    }
   ],
   "source": [
    "print(\"ikun\" not in 谋士)\n",
    "print(\"ikun\" not in 当王的)"
   ]
  },
  {
   "cell_type": "markdown",
   "id": "3e4cec06",
   "metadata": {},
   "source": [
    "# 判断交集"
   ]
  },
  {
   "cell_type": "code",
   "execution_count": 6,
   "id": "6853892a",
   "metadata": {},
   "outputs": [
    {
     "name": "stdout",
     "output_type": "stream",
     "text": [
      "{'孔明', '关公', '张无忌'}\n",
      "{'孔明', '关公', '张无忌'}\n"
     ]
    }
   ],
   "source": [
    "print(能打的.intersection(谋士))\n",
    "print(能打的 & 谋士)"
   ]
  },
  {
   "cell_type": "markdown",
   "id": "ef2fed75",
   "metadata": {},
   "source": [
    "# 判断差集"
   ]
  },
  {
   "cell_type": "code",
   "execution_count": 12,
   "id": "07a61ea7",
   "metadata": {
    "scrolled": true
   },
   "outputs": [
    {
     "name": "stdout",
     "output_type": "stream",
     "text": [
      "谋士中不能打的： {'李世民', '李逍遥', '段誉'}\n",
      "谋士中不能打的： {'李世民', '李逍遥', '段誉'}\n"
     ]
    }
   ],
   "source": [
    "print(\"谋士中不能打的：\", 能打的 - 谋士)\n",
    "print(\"谋士中不能打的：\", 能打的.difference(谋士))"
   ]
  },
  {
   "cell_type": "code",
   "execution_count": 11,
   "id": "1b822e57-63d8-440a-b24d-e3e4faec7b93",
   "metadata": {},
   "outputs": [
    {
     "name": "stdout",
     "output_type": "stream",
     "text": [
      "谋士中不能打的，和能打的但不能谋的： {'李逍遥', '段誉', 'ikun', '李世民', '魏丞相'}\n",
      "谋士中不能打的，和能打的但不能谋的： {'李逍遥', '段誉', 'ikun', '李世民', '魏丞相'}\n"
     ]
    }
   ],
   "source": [
    "print(\"谋士中不能打的，和能打的但不能谋的：\", 谋士.symmetric_difference(能打的))\n",
    "print(\"谋士中不能打的，和能打的但不能谋的：\", 谋士 ^ 能打的)"
   ]
  },
  {
   "cell_type": "markdown",
   "id": "97612b34",
   "metadata": {},
   "source": [
    "# 判断并集"
   ]
  },
  {
   "cell_type": "code",
   "execution_count": 13,
   "id": "fc41c1b6",
   "metadata": {
    "scrolled": true
   },
   "outputs": [
    {
     "name": "stdout",
     "output_type": "stream",
     "text": [
      "{'ikun', '孔明', '魏丞相', '张无忌', '李逍遥', '段誉', '李世民', '关公'}\n",
      "{'ikun', '孔明', '魏丞相', '张无忌', '李逍遥', '段誉', '李世民', '关公'}\n"
     ]
    }
   ],
   "source": [
    "print(能打的.union(谋士))\n",
    "print(能打的 | 谋士)"
   ]
  },
  {
   "cell_type": "markdown",
   "id": "17bf6755",
   "metadata": {},
   "source": [
    "# 补集"
   ]
  },
  {
   "cell_type": "code",
   "execution_count": 14,
   "id": "b0f5208c",
   "metadata": {},
   "outputs": [
    {
     "name": "stdout",
     "output_type": "stream",
     "text": [
      "{'ikun', '孔明', '魏丞相', '张无忌', '李逍遥', '关公'}\n"
     ]
    }
   ],
   "source": [
    "print(S - 当王的)"
   ]
  }
 ],
 "metadata": {
  "kernelspec": {
   "display_name": "Python 3 (ipykernel)",
   "language": "python",
   "name": "python3"
  },
  "language_info": {
   "codemirror_mode": {
    "name": "ipython",
    "version": 3
   },
   "file_extension": ".py",
   "mimetype": "text/x-python",
   "name": "python",
   "nbconvert_exporter": "python",
   "pygments_lexer": "ipython3",
   "version": "3.10.9"
  },
  "varInspector": {
   "cols": {
    "lenName": 16,
    "lenType": 16,
    "lenVar": 40
   },
   "kernels_config": {
    "python": {
     "delete_cmd_postfix": "",
     "delete_cmd_prefix": "del ",
     "library": "var_list.py",
     "varRefreshCmd": "print(var_dic_list())"
    },
    "r": {
     "delete_cmd_postfix": ") ",
     "delete_cmd_prefix": "rm(",
     "library": "var_list.r",
     "varRefreshCmd": "cat(var_dic_list()) "
    }
   },
   "types_to_exclude": [
    "module",
    "function",
    "builtin_function_or_method",
    "instance",
    "_Feature"
   ],
   "window_display": false
  }
 },
 "nbformat": 4,
 "nbformat_minor": 5
}
