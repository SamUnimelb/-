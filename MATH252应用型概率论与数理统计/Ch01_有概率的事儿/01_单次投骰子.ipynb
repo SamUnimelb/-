{
 "cells": [
  {
   "cell_type": "code",
   "execution_count": 1,
   "id": "5fca1ec1",
   "metadata": {},
   "outputs": [],
   "source": [
    "import random\n",
    "\n",
    "random.randint?"
   ]
  },
  {
   "cell_type": "code",
   "execution_count": 3,
   "id": "90f30947",
   "metadata": {
    "scrolled": true
   },
   "outputs": [
    {
     "name": "stdout",
     "output_type": "stream",
     "text": [
      "亲打算模拟掷骰子几次呢？10\n",
      "出现的点数依次为：3 2 3 5 4 5 6 4 2 1 \n",
      "点数 1 出现了 1 次。\n",
      "点数 2 出现了 2 次。\n",
      "点数 3 出现了 2 次。\n",
      "点数 4 出现了 2 次。\n",
      "点数 5 出现了 2 次。\n",
      "点数 6 出现了 1 次。\n"
     ]
    }
   ],
   "source": [
    "retList = [] #记录本次模拟的结果\n",
    "freqDict = {} #记录所出现点数的次数\n",
    "\n",
    "n = int(input(\"亲打算模拟掷骰子几次呢？\"))\n",
    "\n",
    "for i in range(n):\n",
    "    ret = random.randint(1, 6)\n",
    "    retList.append(ret)\n",
    "    if ret in freqDict:\n",
    "        freqDict[ret] += 1\n",
    "    else:\n",
    "        freqDict[ret] = 1\n",
    "\n",
    "print(\"出现的点数依次为：\", end='')\n",
    "for ele in retList:\n",
    "    print(ele, end=' ')\n",
    "print()\n",
    "\n",
    "for k in sorted(freqDict.keys()):\n",
    "    print(\"点数\", k, \"出现了\", freqDict[k], \"次。\")\n"
   ]
  }
 ],
 "metadata": {
  "kernelspec": {
   "display_name": "Python 3 (ipykernel)",
   "language": "python",
   "name": "python3"
  },
  "language_info": {
   "codemirror_mode": {
    "name": "ipython",
    "version": 3
   },
   "file_extension": ".py",
   "mimetype": "text/x-python",
   "name": "python",
   "nbconvert_exporter": "python",
   "pygments_lexer": "ipython3",
   "version": "3.9.7"
  }
 },
 "nbformat": 4,
 "nbformat_minor": 5
}
