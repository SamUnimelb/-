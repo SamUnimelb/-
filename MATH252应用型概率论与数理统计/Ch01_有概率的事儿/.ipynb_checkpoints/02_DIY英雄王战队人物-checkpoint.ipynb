{
 "cells": [
  {
   "cell_type": "code",
   "execution_count": 1,
   "id": "a881a8a9",
   "metadata": {},
   "outputs": [],
   "source": [
    "谋士 = {\"淳于髡\", \"郭巨侠\", \"关公\", \"萧峰\", \"张无忌\"}\n",
    "能打的 = {\"郭巨侠\", \"关公\", \"张无忌\", \"令狐冲\", \"段誉\", \"李逍遥\"}\n",
    "当王的 = {\"令狐冲\", \"段誉\", \"韦帮主\"}\n",
    "S = 能打的.union(谋士).union(当王的)"
   ]
  },
  {
   "cell_type": "code",
   "execution_count": 3,
   "id": "71b1805f",
   "metadata": {
    "scrolled": true
   },
   "outputs": [
    {
     "name": "stdout",
     "output_type": "stream",
     "text": [
      "{'关公', '李逍遥', '郭巨侠', '淳于髡', '令狐冲', '韦帮主', '萧峰', '段誉', '张无忌'}\n"
     ]
    }
   ],
   "source": [
    "print(S)"
   ]
  },
  {
   "cell_type": "code",
   "execution_count": 4,
   "id": "903fde2f",
   "metadata": {
    "scrolled": true
   },
   "outputs": [
    {
     "name": "stdout",
     "output_type": "stream",
     "text": [
      "True\n",
      "False\n"
     ]
    }
   ],
   "source": [
    "print(\"淳于髡\" in 谋士)\n",
    "print(\"淳于髡\" in 当王的)"
   ]
  },
  {
   "cell_type": "code",
   "execution_count": 5,
   "id": "aacf1a58",
   "metadata": {},
   "outputs": [
    {
     "name": "stdout",
     "output_type": "stream",
     "text": [
      "False\n",
      "True\n"
     ]
    }
   ],
   "source": [
    "print(\"淳于髡\" not in 谋士)\n",
    "print(\"淳于髡\" not in 当王的)"
   ]
  },
  {
   "cell_type": "code",
   "execution_count": 6,
   "id": "72a932b2",
   "metadata": {},
   "outputs": [
    {
     "data": {
      "text/plain": [
       "True"
      ]
     },
     "execution_count": 6,
     "metadata": {},
     "output_type": "execute_result"
    }
   ],
   "source": [
    "当王的.isdisjoint(谋士)"
   ]
  },
  {
   "cell_type": "code",
   "execution_count": 7,
   "id": "e47bce5b",
   "metadata": {
    "scrolled": true
   },
   "outputs": [
    {
     "name": "stdout",
     "output_type": "stream",
     "text": [
      "False\n",
      "False\n",
      "False\n",
      "True\n",
      "True\n"
     ]
    }
   ],
   "source": [
    "print(当王的 <= 能打的)\n",
    "print(当王的 < 能打的)\n",
    "print(能打的 >= 当王的)\n",
    "print(当王的 == 当王的)\n",
    "print(当王的 != 能打的)"
   ]
  },
  {
   "cell_type": "code",
   "execution_count": 8,
   "id": "e7e6b950",
   "metadata": {},
   "outputs": [
    {
     "name": "stdout",
     "output_type": "stream",
     "text": [
      "True\n"
     ]
    }
   ],
   "source": [
    "能打的乱序 = {\"关公\", \"令狐冲\",\"段誉\", \"张无忌\", \"郭巨侠\", \"李逍遥\"}\n",
    "print(能打的 == 能打的乱序)"
   ]
  },
  {
   "cell_type": "markdown",
   "id": "3e4cec06",
   "metadata": {},
   "source": [
    "# 代码清单1.2-有勇有谋"
   ]
  },
  {
   "cell_type": "code",
   "execution_count": 2,
   "id": "6853892a",
   "metadata": {
    "scrolled": false
   },
   "outputs": [
    {
     "name": "stdout",
     "output_type": "stream",
     "text": [
      "{'郭巨侠', '关公', '张无忌'}\n",
      "{'郭巨侠', '关公', '张无忌'}\n"
     ]
    }
   ],
   "source": [
    "print(能打的.intersection(谋士))\n",
    "print(能打的 & 谋士)"
   ]
  },
  {
   "cell_type": "markdown",
   "id": "ef2fed75",
   "metadata": {},
   "source": [
    "# 代码清单1.3-网罗人才"
   ]
  },
  {
   "cell_type": "code",
   "execution_count": 10,
   "id": "fc41c1b6",
   "metadata": {
    "scrolled": true
   },
   "outputs": [
    {
     "name": "stdout",
     "output_type": "stream",
     "text": [
      "{'关公', '李逍遥', '郭巨侠', '淳于髡', '令狐冲', '萧峰', '段誉', '张无忌'}\n",
      "{'关公', '李逍遥', '郭巨侠', '淳于髡', '令狐冲', '萧峰', '段誉', '张无忌'}\n"
     ]
    }
   ],
   "source": [
    "print(能打的.union(谋士))\n",
    "print(能打的 | 谋士)"
   ]
  },
  {
   "cell_type": "markdown",
   "id": "97612b34",
   "metadata": {},
   "source": [
    "# 代码清单1.4-“送人头”模拟"
   ]
  },
  {
   "cell_type": "code",
   "execution_count": 11,
   "id": "3516690c",
   "metadata": {
    "scrolled": false
   },
   "outputs": [
    {
     "name": "stdout",
     "output_type": "stream",
     "text": [
      "人物中不能打的： {'淳于髡', '萧峰', '韦帮主'}\n",
      "人物中不能打的： {'淳于髡', '萧峰', '韦帮主'}\n"
     ]
    }
   ],
   "source": [
    "print(\"人物中不能打的：\", S - 能打的)\n",
    "print(\"人物中不能打的：\", S.difference(能打的))"
   ]
  },
  {
   "cell_type": "markdown",
   "id": "a8d60a88",
   "metadata": {},
   "source": [
    "# 代码清单1.5-选出单一技能谋士"
   ]
  },
  {
   "cell_type": "code",
   "execution_count": 12,
   "id": "07a61ea7",
   "metadata": {
    "scrolled": true
   },
   "outputs": [
    {
     "name": "stdout",
     "output_type": "stream",
     "text": [
      "谋士中不能打的： {'淳于髡', '萧峰'}\n",
      "谋士中不能打的： {'淳于髡', '萧峰'}\n"
     ]
    }
   ],
   "source": [
    "print(\"谋士中不能打的：\", 谋士 - 能打的)\n",
    "print(\"谋士中不能打的：\", 谋士.difference(能打的))"
   ]
  },
  {
   "cell_type": "markdown",
   "id": "fdc8cab7",
   "metadata": {},
   "source": [
    "# 代码清单1.6-优化技能单一者"
   ]
  },
  {
   "cell_type": "code",
   "execution_count": 13,
   "id": "51cd7c8a",
   "metadata": {
    "scrolled": true
   },
   "outputs": [
    {
     "name": "stdout",
     "output_type": "stream",
     "text": [
      "{'萧峰', '李逍遥', '段誉', '淳于髡', '令狐冲'}\n"
     ]
    }
   ],
   "source": [
    "print(谋士^能打的) #对称差：两个集合的非共同元素"
   ]
  },
  {
   "cell_type": "code",
   "execution_count": 14,
   "id": "ae75cc11",
   "metadata": {},
   "outputs": [
    {
     "name": "stdout",
     "output_type": "stream",
     "text": [
      "{'萧峰', '李逍遥', '段誉', '淳于髡', '令狐冲'}\n"
     ]
    }
   ],
   "source": [
    "print(谋士.symmetric_difference(能打的))"
   ]
  },
  {
   "cell_type": "markdown",
   "id": "17bf6755",
   "metadata": {},
   "source": [
    "# 代码清单1.7-谋士和王不相容"
   ]
  },
  {
   "cell_type": "code",
   "execution_count": 15,
   "id": "c242f19f",
   "metadata": {
    "scrolled": true
   },
   "outputs": [
    {
     "name": "stdout",
     "output_type": "stream",
     "text": [
      "set()\n"
     ]
    }
   ],
   "source": [
    "print(谋士 & 当王的)"
   ]
  },
  {
   "cell_type": "code",
   "execution_count": 16,
   "id": "b0f5208c",
   "metadata": {},
   "outputs": [
    {
     "name": "stdout",
     "output_type": "stream",
     "text": [
      "{'李逍遥'}\n"
     ]
    }
   ],
   "source": [
    "print(S - 谋士 - 当王的)"
   ]
  }
 ],
 "metadata": {
  "kernelspec": {
   "display_name": "Python 3 (ipykernel)",
   "language": "python",
   "name": "python3"
  },
  "language_info": {
   "codemirror_mode": {
    "name": "ipython",
    "version": 3
   },
   "file_extension": ".py",
   "mimetype": "text/x-python",
   "name": "python",
   "nbconvert_exporter": "python",
   "pygments_lexer": "ipython3",
   "version": "3.10.9"
  },
  "varInspector": {
   "cols": {
    "lenName": 16,
    "lenType": 16,
    "lenVar": 40
   },
   "kernels_config": {
    "python": {
     "delete_cmd_postfix": "",
     "delete_cmd_prefix": "del ",
     "library": "var_list.py",
     "varRefreshCmd": "print(var_dic_list())"
    },
    "r": {
     "delete_cmd_postfix": ") ",
     "delete_cmd_prefix": "rm(",
     "library": "var_list.r",
     "varRefreshCmd": "cat(var_dic_list()) "
    }
   },
   "types_to_exclude": [
    "module",
    "function",
    "builtin_function_or_method",
    "instance",
    "_Feature"
   ],
   "window_display": false
  }
 },
 "nbformat": 4,
 "nbformat_minor": 5
}
