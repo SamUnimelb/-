{
 "cells": [
  {
   "cell_type": "markdown",
   "metadata": {},
   "source": [
    "# 不可更改性"
   ]
  },
  {
   "cell_type": "code",
   "execution_count": 1,
   "metadata": {
    "scrolled": true
   },
   "outputs": [
    {
     "name": "stdout",
     "output_type": "stream",
     "text": [
      "2564630405360\n",
      "2564630405360\n",
      "True\n",
      "True\n"
     ]
    }
   ],
   "source": [
    "str1 = \"hello, world!\"\n",
    "str2 = str1\n",
    "print(id(str1))\n",
    "print(id(str2))\n",
    "print(str1 == str2) # 值的比较\n",
    "print(str1 is str2) # 变量地址的比较"
   ]
  },
  {
   "cell_type": "code",
   "execution_count": 2,
   "metadata": {
    "scrolled": false
   },
   "outputs": [
    {
     "name": "stdout",
     "output_type": "stream",
     "text": [
      "2564631392880\n",
      "2564630405360\n",
      "False\n",
      "hello, world!\n"
     ]
    }
   ],
   "source": [
    "str1 = \"world\"\n",
    "print(id(str1))\n",
    "print(id(str2))\n",
    "print(str1 is str2)\n",
    "print(str2)"
   ]
  },
  {
   "cell_type": "markdown",
   "metadata": {},
   "source": [
    "然而赋为原值之后地址变化也不一定发生，有时会不变（比如字符串为\"hello\"的情况），主要看内容长短。"
   ]
  },
  {
   "cell_type": "code",
   "execution_count": 4,
   "metadata": {
    "scrolled": true
   },
   "outputs": [
    {
     "name": "stdout",
     "output_type": "stream",
     "text": [
      "2564635782064\n",
      "True\n",
      "False\n",
      "2564630405360\n"
     ]
    }
   ],
   "source": [
    "str1 = \"hello, world!\"\n",
    "print(id(str1))\n",
    "print(str1 == str2) # 值比较\n",
    "print(str1 is str2) # 地址比较\n",
    "print(id(str2))"
   ]
  },
  {
   "cell_type": "markdown",
   "metadata": {},
   "source": [
    "# 不可更改对象"
   ]
  },
  {
   "cell_type": "code",
   "execution_count": 5,
   "metadata": {},
   "outputs": [],
   "source": [
    "class Point(tuple):\n",
    "    \n",
    "    __slots__ = []\n",
    "    \n",
    "    def __new__(cls, x, y):\n",
    "        return tuple.__new__(cls, (x, y))\n",
    "    \n",
    "    @property\n",
    "    def x(self):\n",
    "        return tuple.__getitem__(self, 0)\n",
    "    \n",
    "    @property\n",
    "    def y(self):\n",
    "        return tuple.__getitem__(self, 1)\n",
    "    \n",
    "    def __getitem__(self, item):\n",
    "        raise TypeError\n",
    "        \n",
    "    def __str__(self):\n",
    "        return (\"Point: (\" + str(tuple.__getitem__(self, 0))\n",
    "                + \", \" + str(tuple.__getitem__(self, 1)) + \")\")"
   ]
  },
  {
   "cell_type": "markdown",
   "metadata": {},
   "source": [
    "//这是Java写法\n",
    "public class Point{\n",
    "    private final double x;\n",
    "    private final double y;\n",
    "    \n",
    "    public Point(double x, double y){\n",
    "       this.x = x;\n",
    "       this.y = y;\n",
    "    }\n",
    "    \n",
    "    public double getX(){return x;}\n",
    "    public double getY(){return y;}\n",
    "}"
   ]
  },
  {
   "cell_type": "code",
   "execution_count": 6,
   "metadata": {},
   "outputs": [
    {
     "name": "stdout",
     "output_type": "stream",
     "text": [
      "2564635778112\n",
      "2564635778112\n",
      "True\n"
     ]
    }
   ],
   "source": [
    "p1 = Point(1.5, 1.5)\n",
    "p2 = p1\n",
    "print(id(p1))\n",
    "print(id(p2))\n",
    "print(p1 is p2)"
   ]
  },
  {
   "cell_type": "code",
   "execution_count": 7,
   "metadata": {},
   "outputs": [
    {
     "ename": "AttributeError",
     "evalue": "can't set attribute",
     "output_type": "error",
     "traceback": [
      "\u001b[1;31m---------------------------------------------------------------------------\u001b[0m",
      "\u001b[1;31mAttributeError\u001b[0m                            Traceback (most recent call last)",
      "\u001b[1;32m<ipython-input-7-37e8c67cf368>\u001b[0m in \u001b[0;36m<module>\u001b[1;34m\u001b[0m\n\u001b[1;32m----> 1\u001b[1;33m \u001b[0mp1\u001b[0m\u001b[1;33m.\u001b[0m\u001b[0mx\u001b[0m \u001b[1;33m=\u001b[0m \u001b[1;36m2\u001b[0m\u001b[1;33m\u001b[0m\u001b[1;33m\u001b[0m\u001b[0m\n\u001b[0m",
      "\u001b[1;31mAttributeError\u001b[0m: can't set attribute"
     ]
    }
   ],
   "source": [
    "p1.x = 2"
   ]
  },
  {
   "cell_type": "code",
   "execution_count": 8,
   "metadata": {
    "scrolled": false
   },
   "outputs": [
    {
     "ename": "AttributeError",
     "evalue": "can't set attribute",
     "output_type": "error",
     "traceback": [
      "\u001b[1;31m---------------------------------------------------------------------------\u001b[0m",
      "\u001b[1;31mAttributeError\u001b[0m                            Traceback (most recent call last)",
      "\u001b[1;32m<ipython-input-8-047b00c5ec93>\u001b[0m in \u001b[0;36m<module>\u001b[1;34m\u001b[0m\n\u001b[1;32m----> 1\u001b[1;33m \u001b[0mp1\u001b[0m\u001b[1;33m.\u001b[0m\u001b[0my\u001b[0m \u001b[1;33m=\u001b[0m \u001b[1;36m2.5\u001b[0m\u001b[1;33m\u001b[0m\u001b[1;33m\u001b[0m\u001b[0m\n\u001b[0m",
      "\u001b[1;31mAttributeError\u001b[0m: can't set attribute"
     ]
    }
   ],
   "source": [
    "p1.y = 2.5"
   ]
  },
  {
   "cell_type": "code",
   "execution_count": 9,
   "metadata": {
    "scrolled": true
   },
   "outputs": [
    {
     "name": "stdout",
     "output_type": "stream",
     "text": [
      "2564635877312\n",
      "2564635778112\n",
      "False\n",
      "Point: (1.5, 1.5)\n"
     ]
    }
   ],
   "source": [
    "p1 = Point(2, 1.5)\n",
    "print(id(p1))\n",
    "print(id(p2))\n",
    "print(p1 is p2)\n",
    "print(p2)"
   ]
  },
  {
   "cell_type": "code",
   "execution_count": 10,
   "metadata": {},
   "outputs": [
    {
     "name": "stdout",
     "output_type": "stream",
     "text": [
      "2564636499648\n",
      "2564635778112\n",
      "False\n",
      "Point: (1.5, 1.5)\n"
     ]
    }
   ],
   "source": [
    "p1 = Point(1.5, 1.5)\n",
    "print(id(p1))\n",
    "print(id(p2))\n",
    "print(p1 is p2)\n",
    "print(p2)"
   ]
  }
 ],
 "metadata": {
  "kernelspec": {
   "display_name": "Python 3",
   "language": "python",
   "name": "python3"
  },
  "language_info": {
   "codemirror_mode": {
    "name": "ipython",
    "version": 3
   },
   "file_extension": ".py",
   "mimetype": "text/x-python",
   "name": "python",
   "nbconvert_exporter": "python",
   "pygments_lexer": "ipython3",
   "version": "3.8.5"
  },
  "toc": {
   "base_numbering": 1,
   "nav_menu": {},
   "number_sections": true,
   "sideBar": true,
   "skip_h1_title": false,
   "title_cell": "Table of Contents",
   "title_sidebar": "Contents",
   "toc_cell": false,
   "toc_position": {},
   "toc_section_display": true,
   "toc_window_display": false
  },
  "varInspector": {
   "cols": {
    "lenName": 16,
    "lenType": 16,
    "lenVar": 40
   },
   "kernels_config": {
    "python": {
     "delete_cmd_postfix": "",
     "delete_cmd_prefix": "del ",
     "library": "var_list.py",
     "varRefreshCmd": "print(var_dic_list())"
    },
    "r": {
     "delete_cmd_postfix": ") ",
     "delete_cmd_prefix": "rm(",
     "library": "var_list.r",
     "varRefreshCmd": "cat(var_dic_list()) "
    }
   },
   "types_to_exclude": [
    "module",
    "function",
    "builtin_function_or_method",
    "instance",
    "_Feature"
   ],
   "window_display": false
  }
 },
 "nbformat": 4,
 "nbformat_minor": 4
}
