{
 "cells": [
  {
   "cell_type": "markdown",
   "metadata": {},
   "source": [
    "# 字符串基本知识"
   ]
  },
  {
   "cell_type": "markdown",
   "metadata": {},
   "source": [
    "## python字符串的三种形式以及拼接"
   ]
  },
  {
   "cell_type": "code",
   "execution_count": 1,
   "metadata": {},
   "outputs": [],
   "source": [
    "string1 = '单引号单行短字符'\n",
    "string2 = \"双引号单行短字符\"\n",
    "string3 = \"\"\"三引号多行长字符，常常\n",
    "    会用在网络编程中\n",
    "\"\"\""
   ]
  },
  {
   "cell_type": "code",
   "execution_count": 2,
   "metadata": {},
   "outputs": [
    {
     "name": "stdout",
     "output_type": "stream",
     "text": [
      "三引号多行长字符，常常会用在网络编程中\n"
     ]
    }
   ],
   "source": [
    "# 多行长字符去空格换行符操作：\n",
    "string3 = \"\"\"三引号多行长字符，常常\n",
    "    会用在网络编程中\n",
    "\"\"\"\n",
    "print(string3.replace(' ', '').replace('\\n', ''))"
   ]
  },
  {
   "cell_type": "code",
   "execution_count": 3,
   "metadata": {
    "scrolled": true
   },
   "outputs": [
    {
     "name": "stdout",
     "output_type": "stream",
     "text": [
      "single linedouble linemuliple\n",
      "lines of texts\n",
      "available\n"
     ]
    }
   ],
   "source": [
    "string1 = 'single line'\n",
    "string2 = \"double line\"\n",
    "string3 = \"\"\"muliple\n",
    "lines of texts\n",
    "available\"\"\"\n",
    "print(string1 + string2 + string3)"
   ]
  },
  {
   "cell_type": "code",
   "execution_count": 10,
   "metadata": {},
   "outputs": [
    {
     "name": "stdout",
     "output_type": "stream",
     "text": [
      "56\n",
      "11\n",
      "11\n",
      "11\n"
     ]
    }
   ],
   "source": [
    "num1 = \"5\"\n",
    "num2 = \"6\"\n",
    "print(num1 + num2)\n",
    "print(int(num1) + int(num2)) #11\n",
    "exec(\"print(\" + num1 + \"+\" + num2 + \")\") #11\n",
    "print(eval(num1 + \"+\" + num2)) #11"
   ]
  },
  {
   "cell_type": "code",
   "execution_count": 11,
   "metadata": {},
   "outputs": [],
   "source": [
    "check_list = \"wash ur hand\"\"\"\"\n",
    "     wear ur coats\n",
    " \"\"\"'\"anesthetize\" patient'\" 'cut' patient\"\"\"\"\n",
    "     sew patient\n",
    " \"\"\"'awake patient'\"finish operation\"\"\"\"\n",
    "     But, ensure that u \"should have\" a legal\n",
    "     'certificate' first\n",
    " \"\"\".replace(' ', '')"
   ]
  },
  {
   "cell_type": "code",
   "execution_count": 12,
   "metadata": {
    "scrolled": false
   },
   "outputs": [
    {
     "name": "stdout",
     "output_type": "stream",
     "text": [
      "washurhand\n",
      "wearurcoats\n",
      "\"anesthetize\"patient'cut'patient\n",
      "sewpatient\n",
      "awakepatientfinishoperation\n",
      "But,ensurethatu\"shouldhave\"alegal\n",
      "'certificate'first\n",
      "\n"
     ]
    }
   ],
   "source": [
    "print(check_list)"
   ]
  },
  {
   "cell_type": "code",
   "execution_count": 20,
   "metadata": {},
   "outputs": [
    {
     "data": {
      "text/plain": [
       "'He said, \"I love this place!\"'"
      ]
     },
     "execution_count": 20,
     "metadata": {},
     "output_type": "execute_result"
    }
   ],
   "source": [
    "\"\"\"He said, \"I love this place!\"\n",
    "    \"\"\".replace(\"\\n\", '').strip()"
   ]
  },
  {
   "cell_type": "markdown",
   "metadata": {},
   "source": [
    "## 字符串是不可修改对象"
   ]
  },
  {
   "cell_type": "code",
   "execution_count": 21,
   "metadata": {
    "scrolled": false
   },
   "outputs": [
    {
     "ename": "TypeError",
     "evalue": "'str' object does not support item assignment",
     "output_type": "error",
     "traceback": [
      "\u001b[1;31m---------------------------------------------------------------------------\u001b[0m",
      "\u001b[1;31mTypeError\u001b[0m                                 Traceback (most recent call last)",
      "\u001b[1;32m<ipython-input-21-d3b06b5ef308>\u001b[0m in \u001b[0;36m<module>\u001b[1;34m\u001b[0m\n\u001b[0;32m      1\u001b[0m \u001b[0mstr1\u001b[0m \u001b[1;33m=\u001b[0m \u001b[1;34m'spring'\u001b[0m\u001b[1;33m\u001b[0m\u001b[1;33m\u001b[0m\u001b[0m\n\u001b[1;32m----> 2\u001b[1;33m \u001b[0mstr1\u001b[0m\u001b[1;33m[\u001b[0m\u001b[1;36m0\u001b[0m\u001b[1;33m]\u001b[0m \u001b[1;33m=\u001b[0m \u001b[1;34m'z'\u001b[0m\u001b[1;33m\u001b[0m\u001b[1;33m\u001b[0m\u001b[0m\n\u001b[0m",
      "\u001b[1;31mTypeError\u001b[0m: 'str' object does not support item assignment"
     ]
    }
   ],
   "source": [
    "str1 = 'spring' # 地址1\n",
    "str1[0] = 'z'"
   ]
  },
  {
   "cell_type": "code",
   "execution_count": 22,
   "metadata": {},
   "outputs": [
    {
     "name": "stdout",
     "output_type": "stream",
     "text": [
      "zpri\n",
      "dispicable me\n"
     ]
    }
   ],
   "source": [
    "str1 = 'z' + str1[1:4] # 地址3\n",
    "print(str1)\n",
    "str1 = 'me'\n",
    "str2 = 'dispicable'\n",
    "str1, str2 = str2, str1\n",
    "print(str1, str2)"
   ]
  },
  {
   "cell_type": "code",
   "execution_count": 24,
   "metadata": {},
   "outputs": [
    {
     "name": "stdout",
     "output_type": "stream",
     "text": [
      "['h', 'h', '，', '清', '风', '明', '月', '撩', '我', '心']\n",
      "明月清风偷我心\n"
     ]
    }
   ],
   "source": [
    "S = 'hh，清风明月撩我心'\n",
    "L = list(S)\n",
    "print(L)\n",
    "L[3:7], L[7], L[:3] = list('明月清风'), u'偷', ''\n",
    "S = ''.join(L)\n",
    "print(S)"
   ]
  },
  {
   "cell_type": "code",
   "execution_count": 26,
   "metadata": {},
   "outputs": [
    {
     "name": "stdout",
     "output_type": "stream",
     "text": [
      "bytearray(b'\\xe5\\x88\\x9d\\xe8\\xaf\\x8a:\\xe5\\xbf\\x83\\xe8\\x84\\x91\\xe8\\xa1\\x80\\xe7\\xae\\xa1\\xe7\\x96\\xbe\\xe7\\x97\\x85')\n",
      "bytearray(b'\\xe5\\x88\\x9d\\xe8\\xaf\\x8a:\\xe5\\xbf\\x83\\xe8\\x84\\x91\\xe8\\xa1\\x80\\xe7\\xae\\xa1\\xe7\\x96\\xbe\\xe7\\x97\\x85\\n\\xe5\\xa4\\x8d\\xe8\\xaf\\x8a\\xef\\xbc\\x9a\\xe5\\xbf\\x83\\xe8\\x82\\x8c\\xe6\\xa2\\x97\\xe5\\xa1\\x9e')\n",
      "初诊:心脑血管疾病\n",
      "复诊：心肌梗塞\n",
      "\n",
      "初诊:心脑血管疾病\n",
      "复诊：心肌梗塞\n"
     ]
    }
   ],
   "source": [
    "B = bytearray('初诊:心脑血管疾病',encoding='UTF-8') # A bytes/list hybrid (ahead)\n",
    "print(B)\n",
    "B.extend(bytearray('\\n复诊：心肌梗塞', encoding='UTF-8'))\n",
    "print(B)\n",
    "print(B.decode(encoding='UTF-8'))\n",
    "print()\n",
    "print(str(B, 'utf-8'))"
   ]
  },
  {
   "cell_type": "markdown",
   "metadata": {},
   "source": [
    "# 生字符串与反义操作"
   ]
  },
  {
   "cell_type": "markdown",
   "metadata": {},
   "source": [
    "\\n - 换行\n",
    "\\t - 制表符（一个Tab键）\n",
    "\\b - 删除前一个字符\n",
    "\\d, \\f - 整数数值，浮点数值\n",
    "\\s - 字符串\n",
    "\\x - 十六进制"
   ]
  },
  {
   "cell_type": "code",
   "execution_count": 28,
   "metadata": {
    "scrolled": true
   },
   "outputs": [
    {
     "name": "stdout",
     "output_type": "stream",
     "text": [
      "wash ur \\thand, \\nand wear ur coats\\x41\n",
      "D:\\newfiles\\text.txt\n"
     ]
    }
   ],
   "source": [
    "check_lst = r\"wash ur \\thand, \\nand wear ur coats\\x41\"\n",
    "print(check_lst)\n",
    "path = r'D:\\newfiles\\text.txt'\n",
    "print(path)"
   ]
  },
  {
   "cell_type": "code",
   "execution_count": 3,
   "metadata": {},
   "outputs": [
    {
     "name": "stdout",
     "output_type": "stream",
     "text": [
      "'D:\\\\newfiles\\\\text.txt'\n"
     ]
    }
   ],
   "source": [
    "# repr也能让字符串打印更加美观\n",
    "s =  r'D:\\newfiles\\text.txt'\n",
    "print(repr(s))"
   ]
  },
  {
   "cell_type": "code",
   "execution_count": 11,
   "metadata": {},
   "outputs": [
    {
     "name": "stdout",
     "output_type": "stream",
     "text": [
      "temp\\bam\\net\\ temp\\bam\\net\\ temp\\bam\\net\\\n"
     ]
    }
   ],
   "source": [
    "samplestr1 = r'temp\\bam\\net\\\\'[:-1]\n",
    "samplestr2 = r'temp\\bam\\net'\"\\\\\"\n",
    "samplestr3 = 'temp\\\\bam\\\\net\\\\'\n",
    "print(samplestr1, samplestr2, samplestr3)"
   ]
  },
  {
   "cell_type": "code",
   "execution_count": 12,
   "metadata": {},
   "outputs": [
    {
     "name": "stdout",
     "output_type": "stream",
     "text": [
      "'wash ur \\thand, \\nand wear ur coatsA'\n"
     ]
    }
   ],
   "source": [
    "check_list = repr(\"wash ur \\thand, \\nand wear ur coats\\x41\")\n",
    "print(check_list)"
   ]
  },
  {
   "cell_type": "code",
   "execution_count": 13,
   "metadata": {
    "scrolled": true
   },
   "outputs": [
    {
     "name": "stdout",
     "output_type": "stream",
     "text": [
      "probabily\tok\n",
      "probabily\f",
      "ok\n"
     ]
    }
   ],
   "source": [
    "print('probabily\\tok')\n",
    "print('probabily\\fok')"
   ]
  },
  {
   "cell_type": "markdown",
   "metadata": {},
   "source": [
    "# 字符串编码与解码"
   ]
  },
  {
   "cell_type": "code",
   "execution_count": 29,
   "metadata": {},
   "outputs": [
    {
     "ename": "TypeError",
     "evalue": "can only concatenate str (not \"bytes\") to str",
     "output_type": "error",
     "traceback": [
      "\u001b[1;31m---------------------------------------------------------------------------\u001b[0m",
      "\u001b[1;31mTypeError\u001b[0m                                 Traceback (most recent call last)",
      "\u001b[1;32m<ipython-input-29-3b8a53102b8e>\u001b[0m in \u001b[0;36m<module>\u001b[1;34m\u001b[0m\n\u001b[0;32m      1\u001b[0m \u001b[1;31m# 不同类型字符流和字节流之间相互不能混编\u001b[0m\u001b[1;33m\u001b[0m\u001b[1;33m\u001b[0m\u001b[1;33m\u001b[0m\u001b[0m\n\u001b[1;32m----> 2\u001b[1;33m \u001b[0mprint\u001b[0m\u001b[1;33m(\u001b[0m\u001b[1;34m'x'\u001b[0m \u001b[1;33m+\u001b[0m \u001b[1;34mb'y'\u001b[0m\u001b[1;33m)\u001b[0m\u001b[1;33m\u001b[0m\u001b[1;33m\u001b[0m\u001b[0m\n\u001b[0m",
      "\u001b[1;31mTypeError\u001b[0m: can only concatenate str (not \"bytes\") to str"
     ]
    }
   ],
   "source": [
    "# 不同类型字符流和字节流之间相互不能混编\n",
    "print('x' + b'y')"
   ]
  },
  {
   "cell_type": "code",
   "execution_count": 30,
   "metadata": {},
   "outputs": [
    {
     "name": "stdout",
     "output_type": "stream",
     "text": [
      "xy\n",
      "xy\n"
     ]
    }
   ],
   "source": [
    "# 转化了之后可以混编\n",
    "print('x' + b'y'.decode())\n",
    "print(str(b'xy', 'utf-8'))"
   ]
  },
  {
   "cell_type": "markdown",
   "metadata": {},
   "source": [
    "## getdefaultencoding"
   ]
  },
  {
   "cell_type": "code",
   "execution_count": 31,
   "metadata": {
    "scrolled": true
   },
   "outputs": [
    {
     "name": "stdout",
     "output_type": "stream",
     "text": [
      "utf-8\n"
     ]
    }
   ],
   "source": [
    "import sys\n",
    "print(sys.getdefaultencoding())"
   ]
  },
  {
   "cell_type": "markdown",
   "metadata": {},
   "source": [
    "## encode与decode方法"
   ]
  },
  {
   "cell_type": "code",
   "execution_count": 17,
   "metadata": {},
   "outputs": [
    {
     "name": "stdout",
     "output_type": "stream",
     "text": [
      "b'\\xd5\\xe3\\xbd\\xad\\xce\\xc2\\xd6\\xdd\\xa3\\xac\\xd5\\xe3\\xbd\\xad\\xce\\xc2\\xd6\\xdd\\xa3\\xa1'\n"
     ]
    }
   ],
   "source": [
    "msg = '浙江温州，浙江温州！'\n",
    "chmsg1 = msg.encode(encoding='gb2312')\n",
    "chmsg2 = msg.encode('utf16')\n",
    "print(chmsg1)"
   ]
  },
  {
   "cell_type": "code",
   "execution_count": 18,
   "metadata": {},
   "outputs": [
    {
     "name": "stdout",
     "output_type": "stream",
     "text": [
      "b'\\xff\\xfeYm_l)n\\xde]\\x0c\\xffYm_l)n\\xde]\\x01\\xff'\n",
      "255\n"
     ]
    }
   ],
   "source": [
    "print(chmsg2)\n",
    "print(chmsg2[0])"
   ]
  },
  {
   "cell_type": "code",
   "execution_count": 19,
   "metadata": {},
   "outputs": [
    {
     "name": "stdout",
     "output_type": "stream",
     "text": [
      "b'\\xe6\\xb5\\x99\\xe6\\xb1\\x9f\\xe6\\xb8\\xa9\\xe5\\xb7\\x9e\\xef\\xbc\\x8c\\xe6\\xb5\\x99\\xe6\\xb1\\x9f\\xe6\\xb8\\xa9\\xe5\\xb7\\x9e\\xef\\xbc\\x81'\n"
     ]
    }
   ],
   "source": [
    "chmsg3 = msg.encode()\n",
    "print(chmsg3)"
   ]
  },
  {
   "cell_type": "code",
   "execution_count": 20,
   "metadata": {
    "scrolled": true
   },
   "outputs": [
    {
     "name": "stdout",
     "output_type": "stream",
     "text": [
      "浙江温州！浙江温州！\n",
      "浙江温州，浙江温州！\n",
      "浙江温州，浙江温州！\n"
     ]
    }
   ],
   "source": [
    "啥 = b'\\xd5\\xe3\\xbd\\xad\\xce\\xc2\\xd6\\xdd\\xa3\\xa1\\xd5\\xe3\\xbd\\xad\\xce\\xc2\\xd6\\xdd\\xa3\\xa1'\n",
    "print(啥.decode(encoding='gb2312'))\n",
    "what = b'\\xff\\xfeYm_l)n\\xde]\\x0c\\xffYm_l)n\\xde]\\x01\\xff'\n",
    "print(what.decode('utf16'))\n",
    "default = b'\\xe6\\xb5\\x99\\xe6\\xb1\\x9f\\xe6\\xb8\\xa9\\xe5\\xb7\\x9e\\xef\\xbc\\x8c\\xe6\\xb5\\x99\\xe6\\xb1\\x9f\\xe6\\xb8\\xa9\\xe5\\xb7\\x9e\\xef\\xbc\\x81'\n",
    "print(default.decode())"
   ]
  },
  {
   "cell_type": "markdown",
   "metadata": {},
   "source": [
    "## bytes函数"
   ]
  },
  {
   "cell_type": "code",
   "execution_count": 21,
   "metadata": {},
   "outputs": [
    {
     "name": "stdout",
     "output_type": "stream",
     "text": [
      "b'\\xe6\\xb5\\x99\\xe6\\xb1\\x9f\\xe6\\xb8\\xa9\\xe5\\xb7\\x9e\\xef\\xbc\\x81'\n",
      "浙江温州！\n",
      "181\n"
     ]
    },
    {
     "ename": "TypeError",
     "evalue": "'bytes' object does not support item assignment",
     "output_type": "error",
     "traceback": [
      "\u001b[1;31m---------------------------------------------------------------------------\u001b[0m",
      "\u001b[1;31mTypeError\u001b[0m                                 Traceback (most recent call last)",
      "\u001b[1;32m<ipython-input-21-aa84c51b8cf5>\u001b[0m in \u001b[0;36m<module>\u001b[1;34m()\u001b[0m\n\u001b[0;32m      5\u001b[0m \u001b[0mprint\u001b[0m\u001b[1;33m(\u001b[0m\u001b[0mbyteStream\u001b[0m\u001b[1;33m.\u001b[0m\u001b[0mdecode\u001b[0m\u001b[1;33m(\u001b[0m\u001b[1;33m)\u001b[0m\u001b[1;33m)\u001b[0m\u001b[1;33m\u001b[0m\u001b[0m\n\u001b[0;32m      6\u001b[0m \u001b[0mprint\u001b[0m\u001b[1;33m(\u001b[0m\u001b[0mbyteStream\u001b[0m\u001b[1;33m[\u001b[0m\u001b[1;36m1\u001b[0m\u001b[1;33m]\u001b[0m\u001b[1;33m)\u001b[0m\u001b[1;33m\u001b[0m\u001b[0m\n\u001b[1;32m----> 7\u001b[1;33m \u001b[0mbyteStream\u001b[0m\u001b[1;33m[\u001b[0m\u001b[1;36m1\u001b[0m\u001b[1;33m]\u001b[0m \u001b[1;33m+=\u001b[0m \u001b[1;36m1\u001b[0m\u001b[1;33m\u001b[0m\u001b[0m\n\u001b[0m",
      "\u001b[1;31mTypeError\u001b[0m: 'bytes' object does not support item assignment"
     ]
    }
   ],
   "source": [
    "s = '浙江温州！'\n",
    "byteStream = bytes(s, encoding='utf-8')\n",
    "print(byteStream)\n",
    "b'\\xe6\\xb5\\x99\\xe6\\xb1\\x9f\\xe6\\xb8\\xa9\\xe5\\xb7\\x9e\\xef\\xbc\\x81'\n",
    "print(byteStream.decode())\n",
    "print(byteStream[1])\n",
    "byteStream[1] += 1"
   ]
  },
  {
   "cell_type": "code",
   "execution_count": 22,
   "metadata": {
    "scrolled": true
   },
   "outputs": [
    {
     "name": "stdout",
     "output_type": "stream",
     "text": [
      "b'ABCDEFGHIJKLMNOPQRSTUVWXYZ'\n",
      "[b'ABCDEFGHIJKL', b'NOPQRSTUVWXYZ']\n",
      "1\n"
     ]
    }
   ],
   "source": [
    "byteStream = bytes(list(range(65, 91)))\n",
    "print(byteStream)\n",
    "print(byteStream.split(b'M'))\n",
    "print(byteStream.find(b'B'))"
   ]
  },
  {
   "cell_type": "markdown",
   "metadata": {},
   "source": [
    "## bytearray函数"
   ]
  },
  {
   "cell_type": "code",
   "execution_count": 5,
   "metadata": {},
   "outputs": [
    {
     "name": "stdout",
     "output_type": "stream",
     "text": [
      "浙江杭州！\n"
     ]
    }
   ],
   "source": [
    "s = '浙江温州！'\n",
    "# utf-8为系统默认编码方式，可以省略\n",
    "byteStream = bytearray(s, encoding='utf-8')\n",
    "# UTF-8一个字符3字节\n",
    "byteStream[3 * 2 : 3 * 3] = bytes('杭', encoding='utf-8')\n",
    "print(byteStream.decode())"
   ]
  },
  {
   "cell_type": "code",
   "execution_count": 15,
   "metadata": {
    "scrolled": false
   },
   "outputs": [
    {
     "name": "stdout",
     "output_type": "stream",
     "text": [
      "[112, 97, 116, 105, 101, 110, 116, 39, 115, 32, 69, 72, 82]\n",
      "bytearray(b\"patient\\'s EHR\")\n",
      "97\n",
      "bytearray(b\"patient\\'s EMR\")\n",
      "bytearray(b\"patient\\'s EMR: All good!\")\n"
     ]
    }
   ],
   "source": [
    "strInfo = \"patient's EHR\"\n",
    "netflow = bytearray(strInfo, encoding='ascii')\n",
    "print(list(netflow))\n",
    "print(netflow)\n",
    "print(netflow[1])\n",
    "netflow[-2] = ord('M')\n",
    "print(netflow)\n",
    "netflow += b\": All good!\"\n",
    "# netflow.extend(b\": All good!\") # 这两种方式都行。\n",
    "print(netflow)"
   ]
  },
  {
   "cell_type": "code",
   "execution_count": 6,
   "metadata": {
    "scrolled": true
   },
   "outputs": [
    {
     "name": "stdout",
     "output_type": "stream",
     "text": [
      "病人健康档案 第001号\n",
      "病人健康档案 第001号\n"
     ]
    }
   ],
   "source": [
    "netflow = bytearray(\"病人健康档案\", encoding='utf-8')\n",
    "netflow.extend(bytearray(' 第001号', 'utf-8'))\n",
    "print(netflow.decode('utf-8')) # utf-8为系统默认解码方式，可以省略\n",
    "print(netflow.decode())"
   ]
  },
  {
   "cell_type": "markdown",
   "metadata": {},
   "source": [
    "## str函数"
   ]
  },
  {
   "cell_type": "code",
   "execution_count": 7,
   "metadata": {
    "scrolled": true
   },
   "outputs": [
    {
     "name": "stdout",
     "output_type": "stream",
     "text": [
      "浙江温州！\n"
     ]
    }
   ],
   "source": [
    "byteStream = bytes(s, encoding='utf-8')\n",
    "msg = str(byteStream, encoding='utf8')\n",
    "print(msg)"
   ]
  },
  {
   "cell_type": "code",
   "execution_count": 10,
   "metadata": {},
   "outputs": [
    {
     "name": "stdout",
     "output_type": "stream",
     "text": [
      "[230, 181, 153, 230, 177, 159, 230, 184, 169, 229, 183, 158, 239, 188, 129]\n"
     ]
    }
   ],
   "source": [
    "# bytearray可以与列表相互转化\n",
    "print(list(byteStream))"
   ]
  },
  {
   "cell_type": "code",
   "execution_count": 8,
   "metadata": {},
   "outputs": [
    {
     "name": "stdout",
     "output_type": "stream",
     "text": [
      "b'\\xe6\\xb5\\x99\\xe6\\xb1\\x9f\\xe6\\xb8\\xa9\\xe5\\xb7\\x9e\\xef\\xbc\\x81'\n"
     ]
    }
   ],
   "source": [
    "msg = str(byteStream)\n",
    "print(msg)"
   ]
  }
 ],
 "metadata": {
  "kernelspec": {
   "display_name": "Python 3",
   "language": "python",
   "name": "python3"
  },
  "language_info": {
   "codemirror_mode": {
    "name": "ipython",
    "version": 3
   },
   "file_extension": ".py",
   "mimetype": "text/x-python",
   "name": "python",
   "nbconvert_exporter": "python",
   "pygments_lexer": "ipython3",
   "version": "3.8.5"
  },
  "toc": {
   "base_numbering": 1,
   "nav_menu": {},
   "number_sections": true,
   "sideBar": true,
   "skip_h1_title": false,
   "title_cell": "Table of Contents",
   "title_sidebar": "Contents",
   "toc_cell": false,
   "toc_position": {
    "height": "calc(100% - 180px)",
    "left": "10px",
    "top": "150px",
    "width": "279.266px"
   },
   "toc_section_display": true,
   "toc_window_display": true
  },
  "varInspector": {
   "cols": {
    "lenName": 16,
    "lenType": 16,
    "lenVar": 40
   },
   "kernels_config": {
    "python": {
     "delete_cmd_postfix": "",
     "delete_cmd_prefix": "del ",
     "library": "var_list.py",
     "varRefreshCmd": "print(var_dic_list())"
    },
    "r": {
     "delete_cmd_postfix": ") ",
     "delete_cmd_prefix": "rm(",
     "library": "var_list.r",
     "varRefreshCmd": "cat(var_dic_list()) "
    }
   },
   "types_to_exclude": [
    "module",
    "function",
    "builtin_function_or_method",
    "instance",
    "_Feature"
   ],
   "window_display": false
  }
 },
 "nbformat": 4,
 "nbformat_minor": 2
}
